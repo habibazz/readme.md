{
 "cells": [
  {
   "cell_type": "markdown",
   "metadata": {},
   "source": [
    "**General tips for computing and plotting discrete fourier transforms (DFT)**"
   ]
  },
  {
   "cell_type": "markdown",
   "metadata": {},
   "source": [
    "- Let g(t) be some time signal that’s sampled at $dt$ to get a discrete array/list `g = [ … ]`\n",
    "- You don’t need to code your own DFT, use numpy:  `A = numpy.fft.fft(g) * dt`\n",
    "- You should also use `numpy.fft.fftshift( A )` to shift the fft output such that the 0-frequency component is centered (see why here https://docs.scipy.org/doc/numpy/reference/routines.fft.html#background-information) which you probably want when plotting\n",
    "- You can use `f_axis = numpy.fft.fftshift( numpy.fft.fftfreq(len(g), dt) )` to create the frequency axis for plotting the shifted spectrum\n",
    "- Keep in mind the fft output is in general complex, so to compare two fourier transforms (e.g. DFT vs CFT) you should compare either the real and imaginary parts ($z = x + i y$), or the phase and amplitude ($z = r e^{i\\theta}$ ). Amplitude plots are most useful for this lab, show all 4 aspects though if you want.\n",
    "- Note numpy fft assumes the time signal starts at $t = 0$, if yours doesn’t you should center it at zero. If you don’t then the complex components (x and y, or phase) will be off, but the amplitude should not change (why? analytically, recall that axis shifts in either domain are equivalent to complex exponential scaling, which has amplitude 1, in the other domain).\n",
    "- If your time signal g is centered at zero, a hack to ‘rotate it’ to start at zero (and then take the fft and fftshift that) is to do: `fftshift( fft( ifftshift(g) ) )` (you may see mention of this online)"
   ]
  },
  {
   "cell_type": "markdown",
   "metadata": {},
   "source": [
    "# Fourier transform of Gaussian Functions (6 pts)"
   ]
  },
  {
   "cell_type": "markdown",
   "metadata": {},
   "source": [
    "A common function used for the convolution of time series data is the Gaussian function\n",
    "\n",
    "$$  g(t) = \\frac{1}{\\sqrt{\\pi} t_H} e^{-(t/t_H)^2}, $$\n",
    "\n",
    "where $t_H$ is the half duration."
   ]
  },
  {
   "cell_type": "markdown",
   "metadata": {},
   "source": [
    " 1. Plot $g(t)$ for $t_H = 5$ and $t_H = 15$ sec on the same graph with domain $[-50, 50]$ and $dt=10^{-3}$.\n",
    " 2. The analytical formula for the Fourier transform of $g(t)$ is\n",
    "\n",
    "    $$ G(\\omega) = e^\\frac{-\\omega^2 t_H^2}{4}. $$\n",
    "\n",
    "    Compute the discrete Fourier transform (DFT) for both sampled $g(t)$\n",
    "    time series, and compare them to the analytical $G(\\omega)$\n",
    "    for both $t_H$'s on the same graph.\n",
    "\n",
    "    __Hints__: \n",
    "    - As numpy fft assumes signal starts from time 0, you can\n",
    "    use the shift property of Fourier transform to first shift the $g(t)$\n",
    "    to start from zero, and after `fftshift(fft())` operations, multiply\n",
    "    the spectrum by complex exponential sinusoid function.\n",
    "    - You need to sample the theoretical curve $G(w)$ with `w_axis = 2*pi*f_axis`, or else rewrite it as $G(f=\\frac{w}{2\\pi})$ if you'd rather sample it with `f_axis`\n",
    "    - As a guide (so you can be confident of your fft utilization for the remainder of the lab), we expect that the amplitudes (use `numpy.abs(…)`) of the discrete FT and the continuous FT essentially match. The phase won’t necessarily match.\n",
    " 3. Comment on the effect of filtering a general input time function $f(t)$ by $g(t)$\n",
    "    (i.e. convolution of $f(t)$ with $g(t)$), and explain the difference in filtered output\n",
    "    after applying Gaussian functions with $t_H = 5$ or $15$ secs.\n",
    " 4. Comment on how this is related to the time-frequency uncertainty principle (a signal cannot\n",
    "    be infinitesimally sharp both in time and frequency)."
   ]
  },
  {
   "cell_type": "markdown",
   "metadata": {},
   "source": [
    "# Fourier transform of Window Functions (6 pts)"
   ]
  },
  {
   "cell_type": "markdown",
   "metadata": {},
   "source": [
    "A continuous time signal $f(t)$ can be truncated into a signal of finite length\n",
    "$T$ by window functions $b(t)$:\n",
    "\n",
    "$$ g(t) = f(t) b(t) $$\n",
    "\n",
    "Typical window functions include:\n",
    "\n",
    " * Boxcar function\n",
    "    $$b(t) =\n",
    "    \\begin{cases}\n",
    "    1 & 0 \\leq t \\leq T\n",
    "    \\\\\n",
    "    0 & \\text{else}\n",
    "    \\end{cases}\n",
    "    $$\n",
    " * Hann window\n",
    "    $$b(t) =\n",
    "    \\begin{cases}\n",
    "    \\frac{1}{2} \\left( 1 - \\cos \\frac{2 \\pi t}{T} \\right) & 0 \\leq t \\leq T\n",
    "    \\\\\n",
    "    0 & \\text{else}\n",
    "    \\end{cases}\n",
    "    $$\n",
    "\n",
    "Now let $T = 10$ seconds, and sample both window functions by $\\Delta t = 0.01$ seconds:\n",
    "\n",
    " 1. Plot both window functions on the same graph.\n",
    " 2. Calculate the Fourier transform of both functions by numpy `fft()`. Pay extra attention to\n",
    "    how you interpret the corresponding frequencies of output results from python.\n",
    "    (_Hint_: `fftshift()` may be useful. Also pay attention to the length of the input signal\n",
    "    (> 10 sec), as it dictates the frequency resolution for the spectrum.)\n",
    " 3. Plot the Fourier transform of both functions in the appropriate frequency range on the\n",
    "    same graph.\n",
    " 4. Based on the FTs, comment on the effect of truncating a continuous time series by either\n",
    "    window on its frequency spectrum $G(\\omega)$ compared to the original spectrum $F(\\omega)$.\n",
    " 5. Speculate on the advantages and disadvantages of boxcar and Hann window functions for truncation."
   ]
  },
  {
   "cell_type": "markdown",
   "metadata": {},
   "source": [
    "# Radial Distribution Function (12 pts)"
   ]
  },
  {
   "cell_type": "markdown",
   "metadata": {},
   "source": [
    "**Background**"
   ]
  },
  {
   "cell_type": "markdown",
   "metadata": {},
   "source": [
    "Liquids have no fixed internal structure. Yet they do have some short range order in the sense\n",
    "that they have preferred intermolecular spacings, which are determined by the locations of minima\n",
    "in the intermolecular potentials. The microscopic structure of liquids is often characterized by a\n",
    "quantity known as the Radial Distribution Function $g(r)$, which is essentially the probability (Relative\n",
    "to the average probability, which means that $g(r)$ tends to 1 at large $r$, where the neighbour is too far\n",
    "away to feel any interaction.) that a molecule has a neighbouring molecule at distance $r$. Typically $g(r)$\n",
    "shows a value that approaches zero at small $r$ since molecules cannot occupy the same space; it also shows a\n",
    "peak at the preferred distance of nearest neighbours, and secondary peaks at preferred distances of more distant\n",
    "neighbours. If a suitable collimated beam of particles (e.g. X-rays or neutrons) is sent through a\n",
    "sample of the liquid, some of the particles are scattered. The number of particles scattered through\n",
    "a given angle is related to the Fourier Transform of $g(r)$ evaluated at the wavenumber $k$\n",
    "corresponding to the transverse momentum transfer associated with that scattering angle. Kittel derives\n",
    "this relationship in Chapter 17 of Introduction to Solid State Physics.\n",
    "\n",
    "If this all sounds complicated, all you need to know here is that something called the Structure\n",
    "Factor $S(k)$ is effectively measured by looking at the scattered intensity as a function of\n",
    "scattering transverse wavenumber $k$ (proportional to scattering angle), and that the Radial Distribution\n",
    "Function is related to it by\n",
    "\n",
    "$$ g(r) = 1 + \\frac{1}{2 \\pi^2 \\rho r} \\int_0^\\infty k \\left( S(k) - 1 \\right) \\sin(kr) dk $$\n",
    "\n",
    "where $\\rho$ is liquid number density (number of atoms per unit volume, computable from the three\n",
    "constants mentioned in the introduction), $k$ is wavenumber, and $r$ is radius.\n",
    "\n",
    " 1. You may have noticed some resemblance between expression (6) and the Fourier transform.\n",
    "    First show that the integration part $\\int_0^\\infty k (S(k) - 1) \\sin(kr) dk$\n",
    "    can be rewritten as\n",
    "\n",
    "    $$p(r) = \\int_{-\\infty}^\\infty \\frac{1}{2i} k \\left( S(k) - 1 \\right) e^{ikr} dk.$$\n",
    "    \n",
    "    __Hint__: The structure factor S(k) is even, since there should be no reason why scattering intensity would be different for one direction (+k) compared to its opposite (−k). Using the fact that S(k) is even may be useful.  \n",
    "\n",
    " 2. Now we can make some connections between the Radial Transfer Function and the Fourier\n",
    "    Transform, if we substitute $r \\rightarrow t$ and $k \\rightarrow \\omega$. What is the Fourier transform\n",
    "    $P(k)$ of $p(r)$? Is $P(k)$ a real, imaginary or general complex function? Is it even or odd? How will these\n",
    "    affect $p(r)$? Is that what you expect? Plot $P(k)$ as a function of $k$ ranging from $-15\\mathrm{\\mathring{A}}^{-1}$ to $15\\mathrm{\\mathring{A}}^{-1}$\n",
    "    based on `argon.py` (i.e. import and use the variables defined there).\n",
    "    \n",
    "    __Hint__: In constructing $S(k)$ from `argon.py`, you should make an \"even\" array twice the length (minus 1) of YanData. \n",
    "    YanData represents the structure factor (i.e. $S(k)$) for argon sampled at the $dk$ defined in the `argon.py` file. \n",
    "\tIt's specifically $S(k)$ sampled from `k = 0` to `k = len(YanData) * dk`, so create an even function out to the same length in the negative direction (i.e. the \"k-axis\" it's sampled on would be `-(len(YanData)-1)*dk,  ... 0, ..., + (len(YanData)-1)*dk`).\n",
    "\n",
    " 3. Write a Python function `[gn, rn] = RDFcalc(S, dk, rho)` to calculate Radial Distribution\n",
    "    Function $g(r)$ from Structure Factor $S(k)$ data, sampled at $dk$, and density $\\rho$, and output\n",
    "    the RDF vector $g_n$ and its corresponding radial distance vector $r_n$.\n",
    "\n",
    "    __Hint__: for Python `fft()` and `ifft()` functions, realize that the values of the Fourier Transform\n",
    "    corresponding to negative frequencies are stored in the second half of the arrays given to\n",
    "    (`ifft`) or obtained from it (`fft`). You also have to study the difference between the DFT and\n",
    "    FT to multiply the right factors.\n",
    " 4. With the data provided in `argon.py`, compute the corresponding Radial Distribution Function\n",
    "    $g(r)$. Plot your results for $r$ from $0$ to $30\\mathrm{\\mathring{A}}$;. Over what range of radius can you trust your\n",
    "    result?\n",
    "\n",
    "    __Hint__: To check if your results make sense, recall that $g(r)$ is related to the probability that a\n",
    "    molecule has a neighbouring molecule at distance $r$, therefore, should be close to $0$\n",
    "    when $r \\rightarrow 0$, i.e. two molecules can not occupy the same space, and you can\n",
    "    set $g(r = 0) = 0$. Recall $\\lim_{r\\rightarrow\\infty}g(r)=1$. Also note the unit $\\rho$ used in $g(r)$ formula (6).\n",
    "\n",
    " 5. From the $g(r)$ you computed, estimate the average molecular radius $R_a$ of liquid argon. Give\n",
    "    your reasoning and state what accuracy you can justify for your estimation.\n",
    " 6. Now we explore the effect of sampling range. Yan sampled in wavenumber $k$ out to\n",
    "    $k_{max} = 15.24\\mathrm{\\mathring{A}}^{-1}$, and he could have saved himself work by not collecting as much data,\n",
    "    i.e., reducing $k_{max}$. But how much could he have reduced the sampling length $k_{max}$, while still\n",
    "    seeing distinct peaks in the Radial Distribution Function? Also explain theoretically what you observe.\n",
    "\n",
    "    __Hint__: Plot on top of the $g(r)$ obtained in Part 4, the $g(r)$'s you compute for a series of\n",
    "    $k_{max}$ values. You can try half $k_{max}$ each time to look for changes. For the theoretical explanations\n",
    "    for part 6 and 7, realize the interchangability of $t \\leftrightarrow \\omega$ ($r \\leftrightarrow k$).\n",
    "\n",
    " 7. To explore the effect of data sampling, let's assume Yan decided to save his work by sampling\n",
    "    less often (i.e. increasing $dk$). How large a $dk$ can he use to be able to still recover the first\n",
    "    two peaks clearly? State your answers and a theoretical justification for what you expect to\n",
    "    see if you increase $dk$ too much.\n",
    "\n",
    "    __Hint__: Plot on top of the $g(r)$ obtained from `argon.py` data, the $g(r)$'s you obtain when\n",
    "    you subsample the same dataset. Try doubling $dk$ each time to observe the effect of coarser\n",
    "    sampling."
   ]
  }
 ],
 "metadata": {
  "kernelspec": {
   "display_name": "Python 3",
   "language": "python",
   "name": "python3"
  },
  "language_info": {
   "codemirror_mode": {
    "name": "ipython",
    "version": 3
   },
   "file_extension": ".py",
   "mimetype": "text/x-python",
   "name": "python",
   "nbconvert_exporter": "python",
   "pygments_lexer": "ipython3",
   "version": "3.8.8"
  }
 },
 "nbformat": 4,
 "nbformat_minor": 1
}
